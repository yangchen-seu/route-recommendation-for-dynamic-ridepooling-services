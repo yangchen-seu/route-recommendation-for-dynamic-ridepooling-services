{
 "cells": [
  {
   "cell_type": "code",
   "execution_count": 8,
   "metadata": {},
   "outputs": [
    {
     "name": "stdout",
     "output_type": "stream",
     "text": [
      "Processed 2017-05_day_2_hour_17.csv -> ./ODs/2017_05_date_02/OD_2017-05_day_2_hour_17.csv\n",
      "Processed 2017-05_day_2_hour_16.csv -> ./ODs/2017_05_date_02/OD_2017-05_day_2_hour_16.csv\n",
      "Processed 2017-05_day_2_hour_20.csv -> ./ODs/2017_05_date_02/OD_2017-05_day_2_hour_20.csv\n",
      "Processed 2017-05_day_2_hour_5.csv -> ./ODs/2017_05_date_02/OD_2017-05_day_2_hour_5.csv\n",
      "Processed 2017-05_day_2_hour_9.csv -> ./ODs/2017_05_date_02/OD_2017-05_day_2_hour_9.csv\n",
      "Processed 2017-05_day_2_hour_22.csv -> ./ODs/2017_05_date_02/OD_2017-05_day_2_hour_22.csv\n",
      "Processed 2017-05_day_2_hour_6.csv -> ./ODs/2017_05_date_02/OD_2017-05_day_2_hour_6.csv\n",
      "Processed 2017-05_day_2_hour_10.csv -> ./ODs/2017_05_date_02/OD_2017-05_day_2_hour_10.csv\n",
      "Processed 2017-05_day_2_hour_18.csv -> ./ODs/2017_05_date_02/OD_2017-05_day_2_hour_18.csv\n",
      "Processed 2017-05_day_2_hour_7.csv -> ./ODs/2017_05_date_02/OD_2017-05_day_2_hour_7.csv\n",
      "Processed 2017-05_day_2_hour_12.csv -> ./ODs/2017_05_date_02/OD_2017-05_day_2_hour_12.csv\n",
      "Processed 2017-05_day_2_hour_15.csv -> ./ODs/2017_05_date_02/OD_2017-05_day_2_hour_15.csv\n",
      "Processed 2017-05_day_2_hour_13.csv -> ./ODs/2017_05_date_02/OD_2017-05_day_2_hour_13.csv\n",
      "Processed 2017-05_day_2_hour_19.csv -> ./ODs/2017_05_date_02/OD_2017-05_day_2_hour_19.csv\n",
      "Processed 2017-05_day_2_hour_11.csv -> ./ODs/2017_05_date_02/OD_2017-05_day_2_hour_11.csv\n",
      "Processed 2017-05_day_2_hour_8.csv -> ./ODs/2017_05_date_02/OD_2017-05_day_2_hour_8.csv\n",
      "Processed 2017-05_day_2_hour_23.csv -> ./ODs/2017_05_date_02/OD_2017-05_day_2_hour_23.csv\n",
      "Processed 2017-05_day_2_hour_14.csv -> ./ODs/2017_05_date_02/OD_2017-05_day_2_hour_14.csv\n",
      "Processed 2017-05_day_2_hour_21.csv -> ./ODs/2017_05_date_02/OD_2017-05_day_2_hour_21.csv\n",
      "All files processed successfully!\n"
     ]
    },
    {
     "ename": "",
     "evalue": "",
     "output_type": "error",
     "traceback": [
      "\u001b[1;31mThe Kernel crashed while executing code in the the current cell or a previous cell. Please review the code in the cell(s) to identify a possible cause of the failure. Click <a href='https://aka.ms/vscodeJupyterKernelCrash'>here</a> for more info. View Jupyter <a href='command:jupyter.viewOutput'>log</a> for further details."
     ]
    }
   ],
   "source": [
    "import os\n",
    "import pandas as pd\n",
    "\n",
    "# 输入 & 输出路径\n",
    "input_path = './2017_05_date_02/'\n",
    "output_path = './ODs/2017_05_date_02'  # 存储 OD 统计数据\n",
    "os.makedirs(output_path, exist_ok=True)  # 确保输出文件夹存在\n",
    "\n",
    "# 获取所有 CSV 文件\n",
    "files = [f for f in os.listdir(input_path) if f.endswith('.csv')]\n",
    "\n",
    "# 处理每个文件\n",
    "for file in files:\n",
    "    file_path = os.path.join(input_path, file)\n",
    "    df = pd.read_csv(file_path)\n",
    "\n",
    "    # 计算 OD 流量\n",
    "    od = df.groupby(['O_location', 'D_location'])['dwv_order_make_haikou_1.order_id'].count().reset_index()\n",
    "    od['OD_id'] = od.index\n",
    "    od.rename(columns={'dwv_order_make_haikou_1.order_id': 'order_count'}, inplace=True)\n",
    "    \n",
    "    # 计算单位时间 (分钟) 内的到达率\n",
    "    od['lambda'] = od['order_count'] / 60  \n",
    "    # 输出文件路径\n",
    "    output_file = os.path.join(output_path, f\"OD_{file}\")\n",
    "    od.to_csv(output_file, index=False)\n",
    "    \n",
    "    print(f\"Processed {file} -> {output_file}\")\n",
    "\n",
    "print(\"All files processed successfully!\")\n"
   ]
  },
  {
   "cell_type": "code",
   "execution_count": 7,
   "metadata": {},
   "outputs": [
    {
     "name": "stdout",
     "output_type": "stream",
     "text": [
      "Processed 2017-05_hour_7_19.csv -> ./ODs/2017_05_hour_07/OD_2017-05_hour_7_19.csv\n",
      "Processed 2017-05_hour_7_6.csv -> ./ODs/2017_05_hour_07/OD_2017-05_hour_7_6.csv\n",
      "Processed 2017-05_hour_7_16.csv -> ./ODs/2017_05_hour_07/OD_2017-05_hour_7_16.csv\n",
      "Processed 2017-05_hour_7_1.csv -> ./ODs/2017_05_hour_07/OD_2017-05_hour_7_1.csv\n",
      "Processed 2017-05_hour_7_14.csv -> ./ODs/2017_05_hour_07/OD_2017-05_hour_7_14.csv\n",
      "Processed 2017-05_hour_7_8.csv -> ./ODs/2017_05_hour_07/OD_2017-05_hour_7_8.csv\n",
      "Processed 2017-05_hour_7_2.csv -> ./ODs/2017_05_hour_07/OD_2017-05_hour_7_2.csv\n",
      "Processed 2017-05_hour_7_18.csv -> ./ODs/2017_05_hour_07/OD_2017-05_hour_7_18.csv\n",
      "Processed 2017-05_hour_7_20.csv -> ./ODs/2017_05_hour_07/OD_2017-05_hour_7_20.csv\n",
      "Processed 2017-05_hour_7_21.csv -> ./ODs/2017_05_hour_07/OD_2017-05_hour_7_21.csv\n",
      "Processed 2017-05_hour_7_12.csv -> ./ODs/2017_05_hour_07/OD_2017-05_hour_7_12.csv\n",
      "Processed 2017-05_hour_7_3.csv -> ./ODs/2017_05_hour_07/OD_2017-05_hour_7_3.csv\n",
      "Processed 2017-05_hour_7_4.csv -> ./ODs/2017_05_hour_07/OD_2017-05_hour_7_4.csv\n",
      "Processed 2017-05_hour_7_7.csv -> ./ODs/2017_05_hour_07/OD_2017-05_hour_7_7.csv\n",
      "Processed 2017-05_hour_7_10.csv -> ./ODs/2017_05_hour_07/OD_2017-05_hour_7_10.csv\n",
      "Processed 2017-05_hour_7_11.csv -> ./ODs/2017_05_hour_07/OD_2017-05_hour_7_11.csv\n",
      "Processed 2017-05_hour_7_15.csv -> ./ODs/2017_05_hour_07/OD_2017-05_hour_7_15.csv\n",
      "Processed 2017-05_hour_7_17.csv -> ./ODs/2017_05_hour_07/OD_2017-05_hour_7_17.csv\n",
      "Processed 2017-05_hour_7_5.csv -> ./ODs/2017_05_hour_07/OD_2017-05_hour_7_5.csv\n",
      "Processed 2017-05_hour_7_13.csv -> ./ODs/2017_05_hour_07/OD_2017-05_hour_7_13.csv\n",
      "Processed 2017-05_hour_7_9.csv -> ./ODs/2017_05_hour_07/OD_2017-05_hour_7_9.csv\n",
      "All files processed successfully!\n"
     ]
    }
   ],
   "source": [
    "import os\n",
    "import pandas as pd\n",
    "\n",
    "# 输入 & 输出路径\n",
    "input_path = './2017_05_hour_07/'\n",
    "output_path = './ODs/2017_05_hour_07'  # 存储 OD 统计数据\n",
    "os.makedirs(output_path, exist_ok=True)  # 确保输出文件夹存在\n",
    "\n",
    "# 获取所有 CSV 文件\n",
    "files = [f for f in os.listdir(input_path) if f.endswith('.csv')]\n",
    "\n",
    "# 处理每个文件\n",
    "for file in files:\n",
    "    file_path = os.path.join(input_path, file)\n",
    "    df = pd.read_csv(file_path)\n",
    "\n",
    "    # 计算 OD 流量\n",
    "    od = df.groupby(['O_location', 'D_location'])['dwv_order_make_haikou_1.order_id'].count().reset_index()\n",
    "    od['OD_id'] = od.index\n",
    "    od.rename(columns={'dwv_order_make_haikou_1.order_id': 'order_count'}, inplace=True)\n",
    "    \n",
    "    # 计算单位时间 (分钟) 内的到达率\n",
    "    od['lambda'] = od['order_count'] / 60  \n",
    "    # 输出文件路径\n",
    "    output_file = os.path.join(output_path, f\"OD_{file}\")\n",
    "    od.to_csv(output_file, index=False)\n",
    "    \n",
    "    print(f\"Processed {file} -> {output_file}\")\n",
    "\n",
    "print(\"All files processed successfully!\")\n"
   ]
  }
 ],
 "metadata": {
  "kernelspec": {
   "display_name": "base",
   "language": "python",
   "name": "python3"
  },
  "language_info": {
   "codemirror_mode": {
    "name": "ipython",
    "version": 3
   },
   "file_extension": ".py",
   "mimetype": "text/x-python",
   "name": "python",
   "nbconvert_exporter": "python",
   "pygments_lexer": "ipython3",
   "version": "3.9.0"
  }
 },
 "nbformat": 4,
 "nbformat_minor": 2
}
